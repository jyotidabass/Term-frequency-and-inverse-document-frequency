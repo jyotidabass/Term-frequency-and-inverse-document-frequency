{
  "metadata": {
    "kernelspec": {
      "language": "python",
      "display_name": "Python 3",
      "name": "python3"
    },
    "language_info": {
      "name": "python",
      "version": "3.10.14",
      "mimetype": "text/x-python",
      "codemirror_mode": {
        "name": "ipython",
        "version": 3
      },
      "pygments_lexer": "ipython3",
      "nbconvert_exporter": "python",
      "file_extension": ".py"
    },
    "kaggle": {
      "accelerator": "none",
      "dataSources": [],
      "dockerImageVersionId": 30761,
      "isInternetEnabled": true,
      "language": "python",
      "sourceType": "notebook",
      "isGpuEnabled": false
    },
    "colab": {
      "provenance": [],
      "include_colab_link": true
    }
  },
  "nbformat_minor": 0,
  "nbformat": 4,
  "cells": [
    {
      "cell_type": "markdown",
      "metadata": {
        "id": "view-in-github",
        "colab_type": "text"
      },
      "source": [
        "<a href=\"https://colab.research.google.com/github/jyotidabass/Term-frequency-and-inverse-document-frequency/blob/main/Term_frequency_and_inverse_document_frequency.ipynb\" target=\"_parent\"><img src=\"https://colab.research.google.com/assets/colab-badge.svg\" alt=\"Open In Colab\"/></a>"
      ]
    },
    {
      "cell_type": "markdown",
      "source": [
        "# What is TF-IDF (Term Frequency-Inverse Document Frequency)?\n",
        "\n",
        "**TF-IDF (Term Frequency-Inverse Document Frequency) is a numerical statistic that reflects how important a word is to a document in a collection or corpus of documents. In the finance domain, it can be used to analyze and compare the relative importance of financial terms across different financial reports or documents.**"
      ],
      "metadata": {
        "id": "CbkGvbTL54mx"
      }
    },
    {
      "cell_type": "markdown",
      "source": [
        "# Here's a simple Python code snippet using the popular scikit-learn library to perform TF-IDF analysis on a given collection of documents.\n",
        "\n",
        "**First, you'll need to install the required libraries if they are not already installed:**"
      ],
      "metadata": {
        "id": "AMWMa7HF54my"
      }
    },
    {
      "cell_type": "code",
      "source": [
        "!pip install numpy pandas sklearn"
      ],
      "metadata": {
        "execution": {
          "iopub.status.busy": "2024-09-11T16:16:15.123156Z",
          "iopub.execute_input": "2024-09-11T16:16:15.123629Z",
          "iopub.status.idle": "2024-09-11T16:16:18.268437Z",
          "shell.execute_reply.started": "2024-09-11T16:16:15.123579Z",
          "shell.execute_reply": "2024-09-11T16:16:18.266921Z"
        },
        "trusted": true,
        "colab": {
          "base_uri": "https://localhost:8080/"
        },
        "id": "DrtPEr8i54my",
        "outputId": "c93d3ab8-1cbd-4e33-ad8f-07f0a2db5547"
      },
      "execution_count": 4,
      "outputs": [
        {
          "output_type": "stream",
          "name": "stdout",
          "text": [
            "Requirement already satisfied: numpy in /usr/local/lib/python3.10/dist-packages (1.26.4)\n",
            "Requirement already satisfied: pandas in /usr/local/lib/python3.10/dist-packages (2.1.4)\n",
            "Collecting sklearn\n",
            "  Using cached sklearn-0.0.post12.tar.gz (2.6 kB)\n",
            "  \u001b[1;31merror\u001b[0m: \u001b[1msubprocess-exited-with-error\u001b[0m\n",
            "  \n",
            "  \u001b[31m×\u001b[0m \u001b[32mpython setup.py egg_info\u001b[0m did not run successfully.\n",
            "  \u001b[31m│\u001b[0m exit code: \u001b[1;36m1\u001b[0m\n",
            "  \u001b[31m╰─>\u001b[0m See above for output.\n",
            "  \n",
            "  \u001b[1;35mnote\u001b[0m: This error originates from a subprocess, and is likely not a problem with pip.\n",
            "  Preparing metadata (setup.py) ... \u001b[?25l\u001b[?25herror\n",
            "\u001b[1;31merror\u001b[0m: \u001b[1mmetadata-generation-failed\u001b[0m\n",
            "\n",
            "\u001b[31m×\u001b[0m Encountered error while generating package metadata.\n",
            "\u001b[31m╰─>\u001b[0m See above for output.\n",
            "\n",
            "\u001b[1;35mnote\u001b[0m: This is an issue with the package mentioned above, not pip.\n",
            "\u001b[1;36mhint\u001b[0m: See above for details.\n"
          ]
        }
      ]
    },
    {
      "cell_type": "markdown",
      "source": [
        "**Now, let's assume you have a list of documents in a variable named documents. In this example, we'll work with a simple list of three documents:**"
      ],
      "metadata": {
        "id": "B1Qor4HO54mz"
      }
    },
    {
      "cell_type": "code",
      "source": [
        "documents = [\n",
        "    \"Document 1: This is the first document.\",\n",
        "    \"Document 2: This is the second document.\",\n",
        "    \"Document 3: This is the third document.\"\n",
        "]"
      ],
      "metadata": {
        "execution": {
          "iopub.status.busy": "2024-09-11T16:17:07.007888Z",
          "iopub.execute_input": "2024-09-11T16:17:07.008852Z",
          "iopub.status.idle": "2024-09-11T16:17:07.013905Z",
          "shell.execute_reply.started": "2024-09-11T16:17:07.008804Z",
          "shell.execute_reply": "2024-09-11T16:17:07.012529Z"
        },
        "trusted": true,
        "id": "Nf0kUI8A54mz"
      },
      "execution_count": 5,
      "outputs": []
    },
    {
      "cell_type": "markdown",
      "source": [
        "**Next, you'll need to preprocess the documents, tokenize them, and calculate the TF-IDF scores using scikit-learn.**\n",
        "\n",
        "*This code will output the TF-IDF scores for each term in each document.\n",
        "In this example, the three documents contain the same terms, so the TF-IDF scores will be the same for each term. The output will look something like this:*"
      ],
      "metadata": {
        "id": "Lf2Twv0d54mz"
      }
    },
    {
      "cell_type": "code",
      "source": [
        "import numpy as np\n",
        "from sklearn.feature_extraction.text import TfidfVectorizer\n",
        "\n",
        "# Initialize the TfidfVectorizer\n",
        "tfidf = TfidfVectorizer()\n",
        "\n",
        "# Fit the vectorizer to the documents\n",
        "tfidf_matrix = tfidf.fit_transform(documents)\n",
        "\n",
        "# Access the feature names (terms)\n",
        "terms = tfidf.get_feature_names_out() # Changed to get_feature_names_out()\n",
        "\n",
        "# Access the TF-IDF matrix\n",
        "tfidf_array = np.array(tfidf_matrix.todense())\n",
        "\n",
        "# Print the terms and their corresponding TF-IDF scores for each document\n",
        "for i, doc in enumerate(documents):\n",
        "    print(f\"\\nTF-IDF scores for {doc}\")\n",
        "    for j, term in enumerate(terms):\n",
        "        print(f\"{term}: {tfidf_array[i, j]:.4f}\")"
      ],
      "metadata": {
        "execution": {
          "iopub.status.busy": "2024-09-11T16:17:45.679680Z",
          "iopub.execute_input": "2024-09-11T16:17:45.680121Z",
          "iopub.status.idle": "2024-09-11T16:17:46.290827Z",
          "shell.execute_reply.started": "2024-09-11T16:17:45.680081Z",
          "shell.execute_reply": "2024-09-11T16:17:46.289744Z"
        },
        "trusted": true,
        "colab": {
          "base_uri": "https://localhost:8080/"
        },
        "id": "QrnKK3FC54mz",
        "outputId": "aa7d2d66-13b2-475c-e123-635db9d392d0"
      },
      "execution_count": 6,
      "outputs": [
        {
          "output_type": "stream",
          "name": "stdout",
          "text": [
            "\n",
            "TF-IDF scores for Document 1: This is the first document.\n",
            "document: 0.6367\n",
            "first: 0.5390\n",
            "is: 0.3184\n",
            "second: 0.0000\n",
            "the: 0.3184\n",
            "third: 0.0000\n",
            "this: 0.3184\n",
            "\n",
            "TF-IDF scores for Document 2: This is the second document.\n",
            "document: 0.6367\n",
            "first: 0.0000\n",
            "is: 0.3184\n",
            "second: 0.5390\n",
            "the: 0.3184\n",
            "third: 0.0000\n",
            "this: 0.3184\n",
            "\n",
            "TF-IDF scores for Document 3: This is the third document.\n",
            "document: 0.6367\n",
            "first: 0.0000\n",
            "is: 0.3184\n",
            "second: 0.0000\n",
            "the: 0.3184\n",
            "third: 0.5390\n",
            "this: 0.3184\n"
          ]
        }
      ]
    },
    {
      "cell_type": "markdown",
      "source": [
        "# Please upvote if you liked this!! Thanks!!"
      ],
      "metadata": {
        "id": "zuR2qP1054m0"
      }
    }
  ]
}